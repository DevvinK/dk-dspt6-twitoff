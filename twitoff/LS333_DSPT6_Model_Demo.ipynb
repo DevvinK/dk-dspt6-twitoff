{
 "cells": [
  {
   "cell_type": "markdown",
   "metadata": {},
   "source": [
    "### DSPT6 - Adding Data Science to a Web Application\n",
    "\n",
    "The purpose of this notebook is to demonstrate:\n",
    "- Simple online analysis of data from a user of the Twitoff app or an API\n",
    "- Train a more complicated offline model, and serialize the results for online use"
   ]
  },
  {
   "cell_type": "code",
   "execution_count": 10,
   "metadata": {},
   "outputs": [],
   "source": [
    "import sqlite3\n",
    "import pickle\n",
    "import pandas as pd\n",
    "import numpy as np\n",
    "import matplotlib.pyplot as plt\n",
    "from sklearn.metrics import classification_report, plot_confusion_matrix\n",
    "from sklearn.model_selection import train_test_split\n",
    "from sklearn.linear_model import LogisticRegression"
   ]
  },
  {
   "cell_type": "code",
   "execution_count": 3,
   "metadata": {},
   "outputs": [],
   "source": [
    "# Connect to sqlite database\n",
    "conn = sqlite3.connect(\"../twitoff/twtioff.sqlite\")"
   ]
  },
  {
   "cell_type": "code",
   "execution_count": 4,
   "metadata": {
    "colab": {},
    "colab_type": "code",
    "id": "vS_A9hjG1HGD"
   },
   "outputs": [],
   "source": [
    "def get_data(query, conn):\n",
    "    '''Function to get data from SQLite DB'''\n",
    "    \n",
    "    cursor = conn.cursor()\n",
    "    result = cursor.execute(query).fetchall()\n",
    "\n",
    "    # Get columns from cursor object\n",
    "    columns = list(map(lambda x: x[0], cursor.description))\n",
    "\n",
    "    # Assign to DataFrame\n",
    "    df = pd.DataFrame(data=result, columns=columns)\n",
    "    return df"
   ]
  },
  {
   "cell_type": "code",
   "execution_count": null,
   "metadata": {},
   "outputs": [],
   "source": [
    "query = '''\n",
    "SELECT\n",
    "    tweet.id,\n",
    "    tweet.text,\n",
    "    tweet.embedding,\n",
    "    tweet.username\n",
    "From tweet\n",
    "Join user On tweet.user_id= user.id;\n",
    "'''\n",
    "\n",
    "df = get_data(query, conn)\n",
    "df['embedding_decoded'] = df.embedding.apply(lambda x:pickle.loads(x[2:]))\n",
    "print(df.shape)\n",
    "df.head()"
   ]
  },
  {
   "cell_type": "code",
   "execution_count": null,
   "metadata": {},
   "outputs": [],
   "source": [
    "pickle.loads(df.iloc[0].embedding[2:])"
   ]
  },
  {
   "cell_type": "code",
   "execution_count": null,
   "metadata": {},
   "outputs": [],
   "source": [
    "df.username.value_counts()"
   ]
  },
  {
   "cell_type": "code",
   "execution_count": null,
   "metadata": {},
   "outputs": [],
   "source": [
    "user1_embeddings = df.embedding_decoded[df.username== 'elonmusk']\n",
    "user2_embeddings = df.embedding_decoded[df.username== 'nasa']\n",
    "embeddings = pd.concat([user1_embeddings, user2_embeddings])\n",
    "\n",
    "embeddings_df = pd.DataFrame(embeddings.tolist(),\n",
    "                             columns =[f'dim{i}' for i in range(768)]))\n",
    "labels = np.concatenate([np.ones(len(user1_embeddings)),\n",
    "                        np.zeros(len(user2_embeddings))])\n",
    "print(embeddings_df.shape, labels.shape)"
   ]
  },
  {
   "cell_type": "code",
   "execution_count": null,
   "metadata": {},
   "outputs": [],
   "source": [
    "X_train, X_test, y_train, y_test = train_test_split(\n",
    "embeddings_df, labels, test_size=.25,random_state=42)\n",
    "\n",
    "print(X_train.shape, X_test.shape)"
   ]
  },
  {
   "cell_type": "code",
   "execution_count": null,
   "metadata": {},
   "outputs": [],
   "source": [
    "lr = LogisticRegression(max_iter=1000)\n",
    "lr.fit(X_train, _train)"
   ]
  },
  {
   "cell_type": "code",
   "execution_count": null,
   "metadata": {
    "colab": {},
    "colab_type": "code",
    "id": "pVapHGy7gEFx"
   },
   "outputs": [],
   "source": [
    "y_pred = lr.predict(X_test)\n",
    "print(classification_report(y_test, y_pred))\n",
    "\n",
    "plot_confusion_matrix(lr, X_test, y_test, cmap='Blues')\n",
    "plt.title('LogReg Confusion Matrix');"
   ]
  },
  {
   "cell_type": "code",
   "execution_count": null,
   "metadata": {},
   "outputs": [],
   "source": [
    "pickel.dump(lr, open('../models/logreg.pkl', 'rb'))"
   ]
  },
  {
   "cell_type": "code",
   "execution_count": null,
   "metadata": {},
   "outputs": [],
   "source": [
    "lr_unpickled = pickel.load(lr, open('../models/logreg.pkl', 'rb'))\n",
    "lr_unpickled"
   ]
  },
  {
   "cell_type": "code",
   "execution_count": null,
   "metadata": {},
   "outputs": [],
   "source": [
    "BASILICA_KEY = 'af5cd08a-90dc-8bd2-b773-b69f239bb670'\n",
    "BASILICA = basilica.Connection(BASILICA_KEY)"
   ]
  },
  {
   "cell_type": "code",
   "execution_count": null,
   "metadata": {},
   "outputs": [],
   "source": [
    "example_embedding = BASILICA.embed_sentence(\"The MARS rover just reported new and interesting data!\", model ='twitter')"
   ]
  },
  {
   "cell_type": "code",
   "execution_count": null,
   "metadata": {},
   "outputs": [],
   "source": [
    "lr_unpickled.predict_proba([example_embedding])[0]"
   ]
  },
  {
   "cell_type": "code",
   "execution_count": null,
   "metadata": {},
   "outputs": [],
   "source": []
  },
  {
   "cell_type": "code",
   "execution_count": null,
   "metadata": {},
   "outputs": [],
   "source": []
  },
  {
   "cell_type": "code",
   "execution_count": null,
   "metadata": {},
   "outputs": [],
   "source": []
  },
  {
   "cell_type": "code",
   "execution_count": null,
   "metadata": {},
   "outputs": [],
   "source": []
  },
  {
   "cell_type": "code",
   "execution_count": null,
   "metadata": {},
   "outputs": [],
   "source": []
  },
  {
   "cell_type": "code",
   "execution_count": null,
   "metadata": {},
   "outputs": [],
   "source": []
  },
  {
   "cell_type": "code",
   "execution_count": null,
   "metadata": {},
   "outputs": [],
   "source": []
  }
 ],
 "metadata": {
  "colab": {
   "collapsed_sections": [],
   "name": "DSPT6_APIs_Demo.ipynb",
   "provenance": []
  },
  "kernelspec": {
   "display_name": "Python 3",
   "language": "python",
   "name": "python3"
  },
  "language_info": {
   "codemirror_mode": {
    "name": "ipython",
    "version": 3
   },
   "file_extension": ".py",
   "mimetype": "text/x-python",
   "name": "python",
   "nbconvert_exporter": "python",
   "pygments_lexer": "ipython3",
   "version": "3.7.6"
  }
 },
 "nbformat": 4,
 "nbformat_minor": 4
}
